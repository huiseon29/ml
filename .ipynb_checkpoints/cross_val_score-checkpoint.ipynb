{
 "cells": [
  {
   "cell_type": "markdown",
   "id": "9810bfb9",
   "metadata": {},
   "source": [
    "### sklearn.model_selection.cross_val_score\n",
    "* sklearn.model_selection.cross_val_score(estimator, X, y=None, *, groups=None, scoring=None, cv=None, n_jobs=None, verbose=0, fit_params=None, pre_dispatch='2*n_jobs', error_score=nan)"
   ]
  },
  {
   "cell_type": "code",
   "execution_count": 5,
   "id": "70b66a10",
   "metadata": {},
   "outputs": [
    {
     "data": {
      "text/plain": [
       "0.96"
      ]
     },
     "execution_count": 5,
     "metadata": {},
     "output_type": "execute_result"
    }
   ],
   "source": [
    "from sklearn.datasets import load_iris\n",
    "from sklearn.tree import DecisionTreeClassifier # 알고리즘 가져옴\n",
    "from sklearn.model_selection import cross_val_score\n",
    "\n",
    "iris = load_iris() # 데이터 가져옴\n",
    "\n",
    "X = iris.data # feature 데이터 세트\n",
    "y = iris.target # label 데이터 세트\n",
    "\n",
    "dt_clf = DecisionTreeClassifier(random_state=42) # 알고리즘 선언\n",
    "\n",
    "scores = cross_val_score(dt_clf, X, y, cv=3) # 위 알고리즘 교차 검증, cv는 교차 검증 폴더 수\n",
    "\n",
    "scores.mean() # 검증한 값의 평균"
   ]
  },
  {
   "cell_type": "code",
   "execution_count": null,
   "id": "613f65c2",
   "metadata": {},
   "outputs": [],
   "source": []
  }
 ],
 "metadata": {
  "kernelspec": {
   "display_name": "Python 3 (ipykernel)",
   "language": "python",
   "name": "python3"
  },
  "language_info": {
   "codemirror_mode": {
    "name": "ipython",
    "version": 3
   },
   "file_extension": ".py",
   "mimetype": "text/x-python",
   "name": "python",
   "nbconvert_exporter": "python",
   "pygments_lexer": "ipython3",
   "version": "3.11.5"
  }
 },
 "nbformat": 4,
 "nbformat_minor": 5
}
