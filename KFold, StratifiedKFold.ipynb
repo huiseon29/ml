{
 "cells": [
  {
   "cell_type": "markdown",
   "id": "85573025",
   "metadata": {},
   "source": [
    "### sklearn.model_selection.KFold\n",
    "* class sklearn.model_selection.KFold(n_splits=5, *, shuffle=False, random_state=None)"
   ]
  },
  {
   "cell_type": "code",
   "execution_count": 1,
   "id": "c63e3148",
   "metadata": {},
   "outputs": [
    {
     "data": {
      "text/plain": [
       "<generator object _BaseKFold.split at 0x11d7a4b80>"
      ]
     },
     "execution_count": 1,
     "metadata": {},
     "output_type": "execute_result"
    }
   ],
   "source": [
    "from sklearn.model_selection import KFold\n",
    "from sklearn.datasets import load_iris\n",
    "from sklearn.tree import DecisionTreeClassifier\n",
    "from sklearn.metrics import accuracy_score\n",
    "\n",
    "iris = load_iris()\n",
    "X = iris.data\n",
    "y = iris.target\n",
    "\n",
    "kf = KFold(n_splits=5)\n",
    "\n",
    "kf.split(X)"
   ]
  },
  {
   "cell_type": "code",
   "execution_count": 7,
   "id": "5df30d44",
   "metadata": {},
   "outputs": [],
   "source": [
    "from sklearn.model_selection import KFold\n",
    "from sklearn.datasets import load_iris\n",
    "from sklearn.tree import DecisionTreeClassifier\n",
    "from sklearn.metrics import accuracy_score\n",
    "\n",
    "iris = load_iris()\n",
    "X = iris.data\n",
    "y = iris.target\n",
    "\n",
    "kf = KFold(n_splits=5)\n",
    "\n",
    "kf.split(X)\n",
    "\n",
    "val_list = []\n",
    "\n",
    "for train_set, val_set in kf.split(X): \n",
    "    X_train, X_val = X[train_set], X[val_set]\n",
    "    y_train, y_val = y[train_set], y[val_set]\n",
    "    dt_clf = DecisionTreeClassifier(random_state=42)\n",
    "    dt_clf.fit(X_train, y_train)\n",
    "    pred = dt_clf.predict(X_val)\n",
    "    accuracy = accuracy_score(y_val, pred)\n",
    "    val_list.append(accuracy)"
   ]
  },
  {
   "cell_type": "code",
   "execution_count": 8,
   "id": "de4ae417",
   "metadata": {},
   "outputs": [
    {
     "data": {
      "text/plain": [
       "[1.0, 1.0, 0.8333333333333334, 0.9333333333333333, 0.8]"
      ]
     },
     "execution_count": 8,
     "metadata": {},
     "output_type": "execute_result"
    }
   ],
   "source": [
    "val_list"
   ]
  },
  {
   "cell_type": "code",
   "execution_count": 9,
   "id": "7da01ebc",
   "metadata": {},
   "outputs": [
    {
     "data": {
      "text/plain": [
       "0.9133333333333333"
      ]
     },
     "execution_count": 9,
     "metadata": {},
     "output_type": "execute_result"
    }
   ],
   "source": [
    "import numpy as np\n",
    "np.mean(val_list)"
   ]
  },
  {
   "cell_type": "code",
   "execution_count": 10,
   "id": "85c3baa6",
   "metadata": {},
   "outputs": [],
   "source": [
    "from sklearn.model_selection import KFold\n",
    "from sklearn.datasets import load_iris\n",
    "from sklearn.tree import DecisionTreeClassifier\n",
    "from sklearn.metrics import accuracy_score\n",
    "\n",
    "iris = load_iris()\n",
    "\n",
    "X = iris.data\n",
    "y = iris.target\n",
    "\n",
    "kf = KFold(n_splits=3)\n",
    "\n",
    "kf.split(X)\n",
    "\n",
    "val_list = []\n",
    "\n",
    "for train_set, val_set in kf.split(X): \n",
    "    X_train, X_val = X[train_set], X[val_set]\n",
    "    y_train, y_val = y[train_set], y[val_set]\n",
    "    dt_clf = DecisionTreeClassifier(random_state=42)\n",
    "    dt_clf.fit(X_train, y_train)\n",
    "    pred = dt_clf.predict(X_val)\n",
    "    accuracy = accuracy_score(y_val, pred)\n",
    "    val_list.append(accuracy)"
   ]
  },
  {
   "cell_type": "code",
   "execution_count": 11,
   "id": "1465ba80",
   "metadata": {},
   "outputs": [
    {
     "data": {
      "text/plain": [
       "0.0"
      ]
     },
     "execution_count": 11,
     "metadata": {},
     "output_type": "execute_result"
    }
   ],
   "source": [
    "import numpy as np\n",
    "np.mean(val_list)"
   ]
  },
  {
   "cell_type": "markdown",
   "id": "cb694e3e",
   "metadata": {},
   "source": [
    "### sklearn.model_selection.StratifiedKFold\n",
    "* class sklearn.model_selection.StratifiedKFold(n_splits=5, *, shuffle=False, random_state=None)"
   ]
  },
  {
   "cell_type": "code",
   "execution_count": 13,
   "id": "532b1af1",
   "metadata": {},
   "outputs": [
    {
     "name": "stdout",
     "output_type": "stream",
     "text": [
      "[0 0 0 0 0 0 0 0 0 0 0 0 0 0 0 0 0 1 1 1 1 1 1 1 1 1 1 1 1 1 1 1 1 1 2 2 2\n",
      " 2 2 2 2 2 2 2 2 2 2 2 2 2]\n",
      "[0 0 0 0 0 0 0 0 0 0 0 0 0 0 0 0 0 1 1 1 1 1 1 1 1 1 1 1 1 1 1 1 1 2 2 2 2\n",
      " 2 2 2 2 2 2 2 2 2 2 2 2 2]\n",
      "[0 0 0 0 0 0 0 0 0 0 0 0 0 0 0 0 1 1 1 1 1 1 1 1 1 1 1 1 1 1 1 1 1 2 2 2 2\n",
      " 2 2 2 2 2 2 2 2 2 2 2 2 2]\n"
     ]
    }
   ],
   "source": [
    "from sklearn.model_selection import KFold, StratifiedKFold\n",
    "from sklearn.datasets import load_iris\n",
    "from sklearn.tree import DecisionTreeClassifier\n",
    "from sklearn.metrics import accuracy_score\n",
    "\n",
    "iris = load_iris()\n",
    "\n",
    "X = iris.data\n",
    "y = iris.target\n",
    "\n",
    "skf = StratifiedKFold(n_splits=3)\n",
    "\n",
    "val_list = []\n",
    "\n",
    "for train_set, val_set in skf.split(X, y):\n",
    "    X_train, X_val = X[train_set], X[val_set]\n",
    "    y_train, y_val = y[train_set], y[val_set]\n",
    "    dt_clf = DecisionTreeClassifier(random_state=42)\n",
    "    dt_clf.fit(X_train, y_train)\n",
    "    pred = dt_clf.predict(X_val)\n",
    "    accuracy = accuracy_score(y_val, pred)\n",
    "    val_list.append(accuracy)\n",
    "\n",
    "import numpy as np\n",
    "np.mean(val_list)"
   ]
  },
  {
   "cell_type": "code",
   "execution_count": null,
   "id": "0b03c5aa",
   "metadata": {},
   "outputs": [],
   "source": []
  }
 ],
 "metadata": {
  "kernelspec": {
   "display_name": "Python 3 (ipykernel)",
   "language": "python",
   "name": "python3"
  },
  "language_info": {
   "codemirror_mode": {
    "name": "ipython",
    "version": 3
   },
   "file_extension": ".py",
   "mimetype": "text/x-python",
   "name": "python",
   "nbconvert_exporter": "python",
   "pygments_lexer": "ipython3",
   "version": "3.11.5"
  }
 },
 "nbformat": 4,
 "nbformat_minor": 5
}
